{
  "cells": [
    {
      "cell_type": "code",
      "execution_count": 1,
      "metadata": {
        "id": "YXQ6TFwGjgSr"
      },
      "outputs": [],
      "source": [
        "import pandas as pd\n",
        "import numpy as np\n",
        "import matplotlib.pyplot as plt\n",
        "import scipy.stats as stats\n",
        "from scipy.optimize import minimize, curve_fit\n",
        "import astropy.units as u\n",
        "import astropy.constants as const\n",
        "import math\n",
        "import statistics\n",
        "from scipy.stats import linregress\n",
        "import matplotlib.pyplot as plt\n",
        "import matplotlib.cm\n",
        "import scipy.signal as signal\n",
        "import matplotlib.patches as mpatches\n",
        "from matplotlib.ticker import (MultipleLocator, AutoMinorLocator)\n",
        "from matplotlib.colors import (ListedColormap, LinearSegmentedColormap)"
      ]
    },
    {
      "cell_type": "code",
      "execution_count": 2,
      "metadata": {},
      "outputs": [
        {
          "name": "stdout",
          "output_type": "stream",
          "text": [
            "\u001b[1;31mSignature:\u001b[0m\n",
            "\u001b[0mcurve_fit\u001b[0m\u001b[1;33m(\u001b[0m\u001b[1;33m\n",
            "\u001b[0m    \u001b[0mf\u001b[0m\u001b[1;33m,\u001b[0m\u001b[1;33m\n",
            "\u001b[0m    \u001b[0mxdata\u001b[0m\u001b[1;33m,\u001b[0m\u001b[1;33m\n",
            "\u001b[0m    \u001b[0mydata\u001b[0m\u001b[1;33m,\u001b[0m\u001b[1;33m\n",
            "\u001b[0m    \u001b[0mp0\u001b[0m\u001b[1;33m=\u001b[0m\u001b[1;32mNone\u001b[0m\u001b[1;33m,\u001b[0m\u001b[1;33m\n",
            "\u001b[0m    \u001b[0msigma\u001b[0m\u001b[1;33m=\u001b[0m\u001b[1;32mNone\u001b[0m\u001b[1;33m,\u001b[0m\u001b[1;33m\n",
            "\u001b[0m    \u001b[0mabsolute_sigma\u001b[0m\u001b[1;33m=\u001b[0m\u001b[1;32mFalse\u001b[0m\u001b[1;33m,\u001b[0m\u001b[1;33m\n",
            "\u001b[0m    \u001b[0mcheck_finite\u001b[0m\u001b[1;33m=\u001b[0m\u001b[1;32mTrue\u001b[0m\u001b[1;33m,\u001b[0m\u001b[1;33m\n",
            "\u001b[0m    \u001b[0mbounds\u001b[0m\u001b[1;33m=\u001b[0m\u001b[1;33m(\u001b[0m\u001b[1;33m-\u001b[0m\u001b[0minf\u001b[0m\u001b[1;33m,\u001b[0m \u001b[0minf\u001b[0m\u001b[1;33m)\u001b[0m\u001b[1;33m,\u001b[0m\u001b[1;33m\n",
            "\u001b[0m    \u001b[0mmethod\u001b[0m\u001b[1;33m=\u001b[0m\u001b[1;32mNone\u001b[0m\u001b[1;33m,\u001b[0m\u001b[1;33m\n",
            "\u001b[0m    \u001b[0mjac\u001b[0m\u001b[1;33m=\u001b[0m\u001b[1;32mNone\u001b[0m\u001b[1;33m,\u001b[0m\u001b[1;33m\n",
            "\u001b[0m    \u001b[1;33m**\u001b[0m\u001b[0mkwargs\u001b[0m\u001b[1;33m,\u001b[0m\u001b[1;33m\n",
            "\u001b[0m\u001b[1;33m)\u001b[0m\u001b[1;33m\u001b[0m\u001b[1;33m\u001b[0m\u001b[0m\n",
            "\u001b[1;31mDocstring:\u001b[0m\n",
            "Use non-linear least squares to fit a function, f, to data.\n",
            "\n",
            "Assumes ``ydata = f(xdata, *params) + eps``.\n",
            "\n",
            "Parameters\n",
            "----------\n",
            "f : callable\n",
            "    The model function, f(x, ...). It must take the independent\n",
            "    variable as the first argument and the parameters to fit as\n",
            "    separate remaining arguments.\n",
            "xdata : array_like or object\n",
            "    The independent variable where the data is measured.\n",
            "    Should usually be an M-length sequence or an (k,M)-shaped array for\n",
            "    functions with k predictors, but can actually be any object.\n",
            "ydata : array_like\n",
            "    The dependent data, a length M array - nominally ``f(xdata, ...)``.\n",
            "p0 : array_like, optional\n",
            "    Initial guess for the parameters (length N). If None, then the\n",
            "    initial values will all be 1 (if the number of parameters for the\n",
            "    function can be determined using introspection, otherwise a\n",
            "    ValueError is raised).\n",
            "sigma : None or M-length sequence or MxM array, optional\n",
            "    Determines the uncertainty in `ydata`. If we define residuals as\n",
            "    ``r = ydata - f(xdata, *popt)``, then the interpretation of `sigma`\n",
            "    depends on its number of dimensions:\n",
            "\n",
            "        - A 1-D `sigma` should contain values of standard deviations of\n",
            "          errors in `ydata`. In this case, the optimized function is\n",
            "          ``chisq = sum((r / sigma) ** 2)``.\n",
            "\n",
            "        - A 2-D `sigma` should contain the covariance matrix of\n",
            "          errors in `ydata`. In this case, the optimized function is\n",
            "          ``chisq = r.T @ inv(sigma) @ r``.\n",
            "\n",
            "          .. versionadded:: 0.19\n",
            "\n",
            "    None (default) is equivalent of 1-D `sigma` filled with ones.\n",
            "absolute_sigma : bool, optional\n",
            "    If True, `sigma` is used in an absolute sense and the estimated parameter\n",
            "    covariance `pcov` reflects these absolute values.\n",
            "\n",
            "    If False (default), only the relative magnitudes of the `sigma` values matter.\n",
            "    The returned parameter covariance matrix `pcov` is based on scaling\n",
            "    `sigma` by a constant factor. This constant is set by demanding that the\n",
            "    reduced `chisq` for the optimal parameters `popt` when using the\n",
            "    *scaled* `sigma` equals unity. In other words, `sigma` is scaled to\n",
            "    match the sample variance of the residuals after the fit. Default is False.\n",
            "    Mathematically,\n",
            "    ``pcov(absolute_sigma=False) = pcov(absolute_sigma=True) * chisq(popt)/(M-N)``\n",
            "check_finite : bool, optional\n",
            "    If True, check that the input arrays do not contain nans of infs,\n",
            "    and raise a ValueError if they do. Setting this parameter to\n",
            "    False may silently produce nonsensical results if the input arrays\n",
            "    do contain nans. Default is True.\n",
            "bounds : 2-tuple of array_like, optional\n",
            "    Lower and upper bounds on parameters. Defaults to no bounds.\n",
            "    Each element of the tuple must be either an array with the length equal\n",
            "    to the number of parameters, or a scalar (in which case the bound is\n",
            "    taken to be the same for all parameters). Use ``np.inf`` with an\n",
            "    appropriate sign to disable bounds on all or some parameters.\n",
            "\n",
            "    .. versionadded:: 0.17\n",
            "method : {'lm', 'trf', 'dogbox'}, optional\n",
            "    Method to use for optimization. See `least_squares` for more details.\n",
            "    Default is 'lm' for unconstrained problems and 'trf' if `bounds` are\n",
            "    provided. The method 'lm' won't work when the number of observations\n",
            "    is less than the number of variables, use 'trf' or 'dogbox' in this\n",
            "    case.\n",
            "\n",
            "    .. versionadded:: 0.17\n",
            "jac : callable, string or None, optional\n",
            "    Function with signature ``jac(x, ...)`` which computes the Jacobian\n",
            "    matrix of the model function with respect to parameters as a dense\n",
            "    array_like structure. It will be scaled according to provided `sigma`.\n",
            "    If None (default), the Jacobian will be estimated numerically.\n",
            "    String keywords for 'trf' and 'dogbox' methods can be used to select\n",
            "    a finite difference scheme, see `least_squares`.\n",
            "\n",
            "    .. versionadded:: 0.18\n",
            "kwargs\n",
            "    Keyword arguments passed to `leastsq` for ``method='lm'`` or\n",
            "    `least_squares` otherwise.\n",
            "\n",
            "Returns\n",
            "-------\n",
            "popt : array\n",
            "    Optimal values for the parameters so that the sum of the squared\n",
            "    residuals of ``f(xdata, *popt) - ydata`` is minimized.\n",
            "pcov : 2-D array\n",
            "    The estimated covariance of popt. The diagonals provide the variance\n",
            "    of the parameter estimate. To compute one standard deviation errors\n",
            "    on the parameters use ``perr = np.sqrt(np.diag(pcov))``.\n",
            "\n",
            "    How the `sigma` parameter affects the estimated covariance\n",
            "    depends on `absolute_sigma` argument, as described above.\n",
            "\n",
            "    If the Jacobian matrix at the solution doesn't have a full rank, then\n",
            "    'lm' method returns a matrix filled with ``np.inf``, on the other hand\n",
            "    'trf'  and 'dogbox' methods use Moore-Penrose pseudoinverse to compute\n",
            "    the covariance matrix.\n",
            "\n",
            "Raises\n",
            "------\n",
            "ValueError\n",
            "    if either `ydata` or `xdata` contain NaNs, or if incompatible options\n",
            "    are used.\n",
            "\n",
            "RuntimeError\n",
            "    if the least-squares minimization fails.\n",
            "\n",
            "OptimizeWarning\n",
            "    if covariance of the parameters can not be estimated.\n",
            "\n",
            "See Also\n",
            "--------\n",
            "least_squares : Minimize the sum of squares of nonlinear functions.\n",
            "scipy.stats.linregress : Calculate a linear least squares regression for\n",
            "                         two sets of measurements.\n",
            "\n",
            "Notes\n",
            "-----\n",
            "With ``method='lm'``, the algorithm uses the Levenberg-Marquardt algorithm\n",
            "through `leastsq`. Note that this algorithm can only deal with\n",
            "unconstrained problems.\n",
            "\n",
            "Box constraints can be handled by methods 'trf' and 'dogbox'. Refer to\n",
            "the docstring of `least_squares` for more information.\n",
            "\n",
            "Examples\n",
            "--------\n",
            ">>> import matplotlib.pyplot as plt\n",
            ">>> from scipy.optimize import curve_fit\n",
            "\n",
            ">>> def func(x, a, b, c):\n",
            "...     return a * np.exp(-b * x) + c\n",
            "\n",
            "Define the data to be fit with some noise:\n",
            "\n",
            ">>> xdata = np.linspace(0, 4, 50)\n",
            ">>> y = func(xdata, 2.5, 1.3, 0.5)\n",
            ">>> rng = np.random.default_rng()\n",
            ">>> y_noise = 0.2 * rng.normal(size=xdata.size)\n",
            ">>> ydata = y + y_noise\n",
            ">>> plt.plot(xdata, ydata, 'b-', label='data')\n",
            "\n",
            "Fit for the parameters a, b, c of the function `func`:\n",
            "\n",
            ">>> popt, pcov = curve_fit(func, xdata, ydata)\n",
            ">>> popt\n",
            "array([2.56274217, 1.37268521, 0.47427475])\n",
            ">>> plt.plot(xdata, func(xdata, *popt), 'r-',\n",
            "...          label='fit: a=%5.3f, b=%5.3f, c=%5.3f' % tuple(popt))\n",
            "\n",
            "Constrain the optimization to the region of ``0 <= a <= 3``,\n",
            "``0 <= b <= 1`` and ``0 <= c <= 0.5``:\n",
            "\n",
            ">>> popt, pcov = curve_fit(func, xdata, ydata, bounds=(0, [3., 1., 0.5]))\n",
            ">>> popt\n",
            "array([2.43736712, 1.        , 0.34463856])\n",
            ">>> plt.plot(xdata, func(xdata, *popt), 'g--',\n",
            "...          label='fit: a=%5.3f, b=%5.3f, c=%5.3f' % tuple(popt))\n",
            "\n",
            ">>> plt.xlabel('x')\n",
            ">>> plt.ylabel('y')\n",
            ">>> plt.legend()\n",
            ">>> plt.show()\n",
            "\u001b[1;31mFile:\u001b[0m      c:\\users\\56974\\appdata\\local\\programs\\python\\python310\\lib\\site-packages\\scipy\\optimize\\_minpack_py.py\n",
            "\u001b[1;31mType:\u001b[0m      function\n"
          ]
        }
      ],
      "source": [
        "curve_fit?"
      ]
    },
    {
      "cell_type": "code",
      "execution_count": 3,
      "metadata": {
        "id": "wHrr1Osljs-U"
      },
      "outputs": [],
      "source": [
        "# Errores a considerar\n",
        "\n",
        "err_amp = 10  # microamp\n",
        "err_volt = 0.0005 # volt"
      ]
    },
    {
      "cell_type": "code",
      "execution_count": 8,
      "metadata": {},
      "outputs": [],
      "source": [
        "# Filtros\n",
        "\n",
        "filtros_nm = [405, 436, 546, 580]"
      ]
    },
    {
      "cell_type": "code",
      "execution_count": 13,
      "metadata": {},
      "outputs": [
        {
          "data": {
            "text/html": [
              "<div>\n",
              "<style scoped>\n",
              "    .dataframe tbody tr th:only-of-type {\n",
              "        vertical-align: middle;\n",
              "    }\n",
              "\n",
              "    .dataframe tbody tr th {\n",
              "        vertical-align: top;\n",
              "    }\n",
              "\n",
              "    .dataframe thead th {\n",
              "        text-align: right;\n",
              "    }\n",
              "</style>\n",
              "<table border=\"1\" class=\"dataframe\">\n",
              "  <thead>\n",
              "    <tr style=\"text-align: right;\">\n",
              "      <th></th>\n",
              "      <th>Filtros (nm)</th>\n",
              "      <th>Volt_Frenado_1 (V)</th>\n",
              "      <th>Volt_Frenado_2 (V)</th>\n",
              "      <th>Volt_Frenado_3 (V)</th>\n",
              "      <th>Corriente_Inicial (μA)</th>\n",
              "      <th>Err_V</th>\n",
              "      <th>Err_amp</th>\n",
              "    </tr>\n",
              "  </thead>\n",
              "  <tbody>\n",
              "    <tr>\n",
              "      <th>0</th>\n",
              "      <td>405</td>\n",
              "      <td>1.366</td>\n",
              "      <td>1.293</td>\n",
              "      <td>1.430</td>\n",
              "      <td>385</td>\n",
              "      <td>0.0005</td>\n",
              "      <td>10</td>\n",
              "    </tr>\n",
              "    <tr>\n",
              "      <th>1</th>\n",
              "      <td>436</td>\n",
              "      <td>1.015</td>\n",
              "      <td>0.996</td>\n",
              "      <td>1.115</td>\n",
              "      <td>140</td>\n",
              "      <td>0.0005</td>\n",
              "      <td>10</td>\n",
              "    </tr>\n",
              "    <tr>\n",
              "      <th>2</th>\n",
              "      <td>546</td>\n",
              "      <td>0.604</td>\n",
              "      <td>0.665</td>\n",
              "      <td>0.715</td>\n",
              "      <td>210</td>\n",
              "      <td>0.0005</td>\n",
              "      <td>10</td>\n",
              "    </tr>\n",
              "    <tr>\n",
              "      <th>3</th>\n",
              "      <td>580</td>\n",
              "      <td>0.537</td>\n",
              "      <td>0.520</td>\n",
              "      <td>0.545</td>\n",
              "      <td>90</td>\n",
              "      <td>0.0005</td>\n",
              "      <td>10</td>\n",
              "    </tr>\n",
              "  </tbody>\n",
              "</table>\n",
              "</div>"
            ],
            "text/plain": [
              "   Filtros (nm)  Volt_Frenado_1 (V)  Volt_Frenado_2 (V)  Volt_Frenado_3 (V)  \\\n",
              "0           405               1.366               1.293               1.430   \n",
              "1           436               1.015               0.996               1.115   \n",
              "2           546               0.604               0.665               0.715   \n",
              "3           580               0.537               0.520               0.545   \n",
              "\n",
              "   Corriente_Inicial (μA)   Err_V  Err_amp  \n",
              "0                     385  0.0005       10  \n",
              "1                     140  0.0005       10  \n",
              "2                     210  0.0005       10  \n",
              "3                      90  0.0005       10  "
            ]
          },
          "execution_count": 13,
          "metadata": {},
          "output_type": "execute_result"
        }
      ],
      "source": [
        "# Armamos un DataFrame con todos los datos obtenidos\n",
        "\n",
        "volt_frenado_1 = [1.366, 1.015, 0.604, 0.537]\n",
        "volt_frenado_2 = [1.293, 0.996, 0.665, 0.520]\n",
        "volt_frenado_3 = [1.430, 1.115, 0.715, 0.545]\n",
        "corriente_inicial = [385, 140, 210, 90]\n",
        "\n",
        "datos_dict = {\n",
        "    'Filtros (nm)': filtros_nm,\n",
        "    'Volt_Frenado_1 (V)': volt_frenado_1,\n",
        "    'Volt_Frenado_2 (V)': volt_frenado_2,\n",
        "    'Volt_Frenado_3 (V)': volt_frenado_3,\n",
        "    'Corriente_Inicial (μA)': corriente_inicial_1,\n",
        "    'Err_V': [err_volt for i in range(len(filtros_nm))],\n",
        "    'Err_amp': [err_amp for i in range(len(filtros_nm))]\n",
        "}\n",
        "\n",
        "datos_fotoelect = pd.DataFrame(datos_dict)\n",
        "datos_fotoelect\n"
      ]
    },
    {
      "cell_type": "code",
      "execution_count": 23,
      "metadata": {},
      "outputs": [],
      "source": [
        "# Definimos esta función para encontrar el promedio de los voltajes de frenado, con sus respectivas\n",
        "# desviaciones estándar\n",
        "\n",
        "def mean_std_volt(volt_frenado_1, volt_frenado_2, volt_frenado_3):\n",
        "    list_mean = list()\n",
        "    list_std = list()\n",
        "    for i in range(len(volt_frenado_1)):\n",
        "        list_mean.append(np.mean(\n",
        "            [volt_frenado_1[i], volt_frenado_2[i], volt_frenado_3[i]]\n",
        "        ))\n",
        "        list_std.append(np.std(\n",
        "            [volt_frenado_1[i], volt_frenado_2[i], volt_frenado_3[i]]\n",
        "        ))\n",
        "    return list_mean, list_std"
      ]
    },
    {
      "cell_type": "code",
      "execution_count": 24,
      "metadata": {},
      "outputs": [
        {
          "data": {
            "text/plain": [
              "([1.3629999999999998, 1.042, 0.6613333333333333, 0.5339999999999999],\n",
              " [0.055970230182362725,\n",
              "  0.052198339692624975,\n",
              "  0.04538967087589667,\n",
              "  0.010424330514074601])"
            ]
          },
          "execution_count": 24,
          "metadata": {},
          "output_type": "execute_result"
        }
      ],
      "source": [
        "mean_volt, std_volt = mean_std_volt(datos_fotoelect['Volt_Frenado_1 (V)'],\n",
        "                                    datos_fotoelect['Volt_Frenado_2 (V)'],\n",
        "                                    datos_fotoelect['Volt_Frenado_3 (V)'])\n",
        "mean_volt, std_volt"
      ]
    },
    {
      "cell_type": "code",
      "execution_count": 26,
      "metadata": {},
      "outputs": [
        {
          "data": {
            "text/html": [
              "<div>\n",
              "<style scoped>\n",
              "    .dataframe tbody tr th:only-of-type {\n",
              "        vertical-align: middle;\n",
              "    }\n",
              "\n",
              "    .dataframe tbody tr th {\n",
              "        vertical-align: top;\n",
              "    }\n",
              "\n",
              "    .dataframe thead th {\n",
              "        text-align: right;\n",
              "    }\n",
              "</style>\n",
              "<table border=\"1\" class=\"dataframe\">\n",
              "  <thead>\n",
              "    <tr style=\"text-align: right;\">\n",
              "      <th></th>\n",
              "      <th>Filtros (nm)</th>\n",
              "      <th>Volt_Frenado_1 (V)</th>\n",
              "      <th>Volt_Frenado_2 (V)</th>\n",
              "      <th>Volt_Frenado_3 (V)</th>\n",
              "      <th>Corriente_Inicial (μA)</th>\n",
              "      <th>Err_V</th>\n",
              "      <th>Err_amp</th>\n",
              "      <th>Volt_Frenado_Mean (V)</th>\n",
              "      <th>Volt_Frenado_STDDEV (V)</th>\n",
              "    </tr>\n",
              "  </thead>\n",
              "  <tbody>\n",
              "    <tr>\n",
              "      <th>0</th>\n",
              "      <td>405</td>\n",
              "      <td>1.366</td>\n",
              "      <td>1.293</td>\n",
              "      <td>1.430</td>\n",
              "      <td>385</td>\n",
              "      <td>0.0005</td>\n",
              "      <td>10</td>\n",
              "      <td>1.363000</td>\n",
              "      <td>0.055970</td>\n",
              "    </tr>\n",
              "    <tr>\n",
              "      <th>1</th>\n",
              "      <td>436</td>\n",
              "      <td>1.015</td>\n",
              "      <td>0.996</td>\n",
              "      <td>1.115</td>\n",
              "      <td>140</td>\n",
              "      <td>0.0005</td>\n",
              "      <td>10</td>\n",
              "      <td>1.042000</td>\n",
              "      <td>0.052198</td>\n",
              "    </tr>\n",
              "    <tr>\n",
              "      <th>2</th>\n",
              "      <td>546</td>\n",
              "      <td>0.604</td>\n",
              "      <td>0.665</td>\n",
              "      <td>0.715</td>\n",
              "      <td>210</td>\n",
              "      <td>0.0005</td>\n",
              "      <td>10</td>\n",
              "      <td>0.661333</td>\n",
              "      <td>0.045390</td>\n",
              "    </tr>\n",
              "    <tr>\n",
              "      <th>3</th>\n",
              "      <td>580</td>\n",
              "      <td>0.537</td>\n",
              "      <td>0.520</td>\n",
              "      <td>0.545</td>\n",
              "      <td>90</td>\n",
              "      <td>0.0005</td>\n",
              "      <td>10</td>\n",
              "      <td>0.534000</td>\n",
              "      <td>0.010424</td>\n",
              "    </tr>\n",
              "  </tbody>\n",
              "</table>\n",
              "</div>"
            ],
            "text/plain": [
              "   Filtros (nm)  Volt_Frenado_1 (V)  Volt_Frenado_2 (V)  Volt_Frenado_3 (V)  \\\n",
              "0           405               1.366               1.293               1.430   \n",
              "1           436               1.015               0.996               1.115   \n",
              "2           546               0.604               0.665               0.715   \n",
              "3           580               0.537               0.520               0.545   \n",
              "\n",
              "   Corriente_Inicial (μA)   Err_V  Err_amp  Volt_Frenado_Mean (V)  \\\n",
              "0                     385  0.0005       10               1.363000   \n",
              "1                     140  0.0005       10               1.042000   \n",
              "2                     210  0.0005       10               0.661333   \n",
              "3                      90  0.0005       10               0.534000   \n",
              "\n",
              "   Volt_Frenado_STDDEV (V)  \n",
              "0                 0.055970  \n",
              "1                 0.052198  \n",
              "2                 0.045390  \n",
              "3                 0.010424  "
            ]
          },
          "execution_count": 26,
          "metadata": {},
          "output_type": "execute_result"
        }
      ],
      "source": [
        "datos_fotoelect['Volt_Frenado_Mean (V)'] = mean_volt\n",
        "datos_fotoelect['Volt_Frenado_STDDEV (V)'] = std_volt\n",
        "datos_fotoelect"
      ]
    },
    {
      "cell_type": "code",
      "execution_count": 31,
      "metadata": {},
      "outputs": [
        {
          "data": {
            "text/html": [
              "<div>\n",
              "<style scoped>\n",
              "    .dataframe tbody tr th:only-of-type {\n",
              "        vertical-align: middle;\n",
              "    }\n",
              "\n",
              "    .dataframe tbody tr th {\n",
              "        vertical-align: top;\n",
              "    }\n",
              "\n",
              "    .dataframe thead th {\n",
              "        text-align: right;\n",
              "    }\n",
              "</style>\n",
              "<table border=\"1\" class=\"dataframe\">\n",
              "  <thead>\n",
              "    <tr style=\"text-align: right;\">\n",
              "      <th></th>\n",
              "      <th>Filtros (nm)</th>\n",
              "      <th>Volt_Frenado_1 (V)</th>\n",
              "      <th>Volt_Frenado_2 (V)</th>\n",
              "      <th>Volt_Frenado_3 (V)</th>\n",
              "      <th>Corriente_Inicial (μA)</th>\n",
              "      <th>Err_V</th>\n",
              "      <th>Err_amp</th>\n",
              "      <th>Volt_Frenado_Mean (V)</th>\n",
              "      <th>Volt_Frenado_STDDEV (V)</th>\n",
              "      <th>Volt_Comb_Err (V)</th>\n",
              "    </tr>\n",
              "  </thead>\n",
              "  <tbody>\n",
              "    <tr>\n",
              "      <th>0</th>\n",
              "      <td>405</td>\n",
              "      <td>1.366</td>\n",
              "      <td>1.293</td>\n",
              "      <td>1.430</td>\n",
              "      <td>385</td>\n",
              "      <td>0.0005</td>\n",
              "      <td>10</td>\n",
              "      <td>1.363000</td>\n",
              "      <td>0.055970</td>\n",
              "      <td>0.055972</td>\n",
              "    </tr>\n",
              "    <tr>\n",
              "      <th>1</th>\n",
              "      <td>436</td>\n",
              "      <td>1.015</td>\n",
              "      <td>0.996</td>\n",
              "      <td>1.115</td>\n",
              "      <td>140</td>\n",
              "      <td>0.0005</td>\n",
              "      <td>10</td>\n",
              "      <td>1.042000</td>\n",
              "      <td>0.052198</td>\n",
              "      <td>0.052201</td>\n",
              "    </tr>\n",
              "    <tr>\n",
              "      <th>2</th>\n",
              "      <td>546</td>\n",
              "      <td>0.604</td>\n",
              "      <td>0.665</td>\n",
              "      <td>0.715</td>\n",
              "      <td>210</td>\n",
              "      <td>0.0005</td>\n",
              "      <td>10</td>\n",
              "      <td>0.661333</td>\n",
              "      <td>0.045390</td>\n",
              "      <td>0.045392</td>\n",
              "    </tr>\n",
              "    <tr>\n",
              "      <th>3</th>\n",
              "      <td>580</td>\n",
              "      <td>0.537</td>\n",
              "      <td>0.520</td>\n",
              "      <td>0.545</td>\n",
              "      <td>90</td>\n",
              "      <td>0.0005</td>\n",
              "      <td>10</td>\n",
              "      <td>0.534000</td>\n",
              "      <td>0.010424</td>\n",
              "      <td>0.010436</td>\n",
              "    </tr>\n",
              "  </tbody>\n",
              "</table>\n",
              "</div>"
            ],
            "text/plain": [
              "   Filtros (nm)  Volt_Frenado_1 (V)  Volt_Frenado_2 (V)  Volt_Frenado_3 (V)  \\\n",
              "0           405               1.366               1.293               1.430   \n",
              "1           436               1.015               0.996               1.115   \n",
              "2           546               0.604               0.665               0.715   \n",
              "3           580               0.537               0.520               0.545   \n",
              "\n",
              "   Corriente_Inicial (μA)   Err_V  Err_amp  Volt_Frenado_Mean (V)  \\\n",
              "0                     385  0.0005       10               1.363000   \n",
              "1                     140  0.0005       10               1.042000   \n",
              "2                     210  0.0005       10               0.661333   \n",
              "3                      90  0.0005       10               0.534000   \n",
              "\n",
              "   Volt_Frenado_STDDEV (V)  Volt_Comb_Err (V)  \n",
              "0                 0.055970           0.055972  \n",
              "1                 0.052198           0.052201  \n",
              "2                 0.045390           0.045392  \n",
              "3                 0.010424           0.010436  "
            ]
          },
          "execution_count": 31,
          "metadata": {},
          "output_type": "execute_result"
        }
      ],
      "source": [
        "# Combinación de errores: como la desviación estándar y el error instrumental no tienen correlación,\n",
        "# podemos usar el método RSS (root-sum-square), es decir, tomar la raíz cuadrada de la suma de los cuadrados de desviación\n",
        "# estándar y de error instrumental, para así obtener el error combinado total de los voltajes de frenado\n",
        "\n",
        "volt_err_comb = np.sqrt((datos_fotoelect['Volt_Frenado_STDDEV (V)'] ** 2) + (datos_fotoelect['Err_V'] ** 2))\n",
        "datos_fotoelect['Volt_Comb_Err (V)'] = volt_err_comb\n",
        "datos_fotoelect"
      ]
    },
    {
      "attachments": {},
      "cell_type": "markdown",
      "metadata": {},
      "source": [
        "## Análisis\n",
        "\n",
        "### 1.- Gráfico voltaje de frenado v/s 1/lambda"
      ]
    },
    {
      "cell_type": "code",
      "execution_count": 44,
      "metadata": {},
      "outputs": [
        {
          "data": {
            "text/plain": [
              "<matplotlib.legend.Legend at 0x25b36bc5570>"
            ]
          },
          "execution_count": 44,
          "metadata": {},
          "output_type": "execute_result"
        },
        {
          "data": {
            "image/png": "[encoded data removed]",
            "text/plain": [
              "<Figure size 720x720 with 1 Axes>"
            ]
          },
          "metadata": {
            "needs_background": "light"
          },
          "output_type": "display_data"
        }
      ],
      "source": [
        "fig, ax1 = plt.subplots(figsize=(10, 10))\n",
        "ax1.errorbar(1/datos_fotoelect['Filtros (nm)'], datos_fotoelect['Volt_Frenado_Mean (V)'], yerr = datos_fotoelect['Volt_Comb_Err (V)'],\n",
        "              fmt = '.', markersize = '10', ecolor = 'Black', color = 'Black',capsize=4, capthick=0.6 )\n",
        "ax1.scatter(1/datos_fotoelect['Filtros (nm)'], datos_fotoelect['Volt_Frenado_Mean (V)'], marker=\".\", s=50, c=\"black\", label='DATAPOINT')\n",
        "ax1.set_title('Voltaje de frenado v/s longitud de onda', fontsize=25)\n",
        "ax1.set_ylabel(r'Voltaje de frenado (V)', fontsize=25)\n",
        "ax1.set_xlabel(r'1/$\\lambda$ (nm$^{-1}$)', fontsize=25)\n",
        "ax1.yaxis.get_offset_text().set_fontsize(15)\n",
        "\n",
        "ax1.tick_params(axis='both', labelsize=15, direction='in', right=True, top=True,\n",
        "              length=6, width=1.5, grid_color='black', grid_alpha=1, grid_linestyle=\"-\",\n",
        "              grid_linewidth=0.5)\n",
        "\n",
        "ax1.xaxis.set_minor_locator(MultipleLocator(0.000025))\n",
        "ax1.yaxis.set_minor_locator(MultipleLocator(0.025))\n",
        "ax1.tick_params(which='minor', length=4, color='black', direction='in', top=True, right=True,\n",
        "                grid_alpha=0.2, grid_linewidth=0.5, grid_linestyle=\"-\",grid_color='r')\n",
        "\n",
        "ax1.grid(True, which='both')\n",
        "ax1.legend(fontsize=15)"
      ]
    },
    {
      "attachments": {},
      "cell_type": "markdown",
      "metadata": {},
      "source": [
        "### 2.- Por un método gráfico y utilizando la ecuación (4), obtenga un valor para la constante de Planck (recuerde que hay que contar el error o incertidumbres en la medición)."
      ]
    },
    {
      "attachments": {},
      "cell_type": "markdown",
      "metadata": {},
      "source": [
        "$$h\\nu = w_{0} +eV \\tag{4}$$\n",
        "\n",
        "$$\\rightarrow \\hspace{3mm} eV = h\\nu - w_{0}$$"
      ]
    },
    {
      "cell_type": "code",
      "execution_count": 45,
      "metadata": {},
      "outputs": [],
      "source": [
        "# Definimos una función de la forma y = mx + b, donde la pendiente m = h, x = \\nu, y el intercepto b = -w0\n",
        "\n",
        "def modelo_fotoelectrico(frecuencia, const_planck, funcion_trabajo):\n",
        "    return (frecuencia * const_planck) - funcion_trabajo"
      ]
    },
    {
      "cell_type": "code",
      "execution_count": 91,
      "metadata": {},
      "outputs": [],
      "source": [
        "# Definimos los datos que necesitamos, con las unidades pertinentes\n",
        "\n",
        "electron_volts = ((np.array(datos_fotoelect['Volt_Frenado_Mean (V)']) * u.V * const.e.si).to(u.eV)).to(u.J).value # eV (Joules)\n",
        "err_electron_volts = ((np.array(datos_fotoelect['Volt_Comb_Err (V)']) * u.V * const.e.si).to(u.eV)).to(u.J).value # eV (Joules)\n",
        "frecuencias = (const.c / (np.array(datos_fotoelect['Filtros (nm)']) * u.nm).to(u.m)).value # nu (1/s)\n"
      ]
    },
    {
      "cell_type": "code",
      "execution_count": 96,
      "metadata": {},
      "outputs": [
        {
          "data": {
            "text/plain": [
              "array([4.30831628e-35, 2.29889060e-20])"
            ]
          },
          "execution_count": 96,
          "metadata": {},
          "output_type": "execute_result"
        }
      ],
      "source": [
        "# A través de curve_fit, encontramos los mejores valores para la pendiente y el intercepto\n",
        "\n",
        "popt, pcov = curve_fit(modelo_fotoelectrico, frecuencias, electron_volts, sigma=err_electron_volts)\n",
        "\n",
        "# En la documentación de curve_fit, aparece que el error de los parametros estimados se obtiene de esta manera\n",
        "perr = np.sqrt(np.diag(pcov))\n",
        "perr"
      ]
    },
    {
      "cell_type": "code",
      "execution_count": 159,
      "metadata": {},
      "outputs": [
        {
          "data": {
            "text/plain": [
              "1.981378858398716e-19"
            ]
          },
          "execution_count": 159,
          "metadata": {},
          "output_type": "execute_result"
        }
      ],
      "source": [
        "popt[1]"
      ]
    },
    {
      "cell_type": "code",
      "execution_count": 153,
      "metadata": {},
      "outputs": [],
      "source": [
        "err_porcentual_h = (perr[0] * 100) / popt[0]\n",
        "err_porcentual_w_0 = (perr[1] * 100) / popt[1]\n",
        "dif_porcentual_teo_exp_h = (100 * np.abs(popt[0] - const.h.value)) / const.h.value\n",
        "err_dif_porcentual_teo_exp_h = np.abs(dif_porcentual_teo_exp_h - (100 * np.abs(popt[0] + perr[0] - const.h.value)) / const.h.value)\n"
      ]
    },
    {
      "cell_type": "code",
      "execution_count": 166,
      "metadata": {},
      "outputs": [
        {
          "data": {
            "text/plain": [
              "<matplotlib.legend.Legend at 0x25b60113190>"
            ]
          },
          "execution_count": 166,
          "metadata": {},
          "output_type": "execute_result"
        },
        {
          "data": {
            "image/png": "[encoded data removed]",
            "text/plain": [
              "<Figure size 720x720 with 1 Axes>"
            ]
          },
          "metadata": {
            "needs_background": "light"
          },
          "output_type": "display_data"
        }
      ],
      "source": [
        "fig, ax1 = plt.subplots(figsize=(10, 10))\n",
        "ax1.errorbar(frecuencias, electron_volts, yerr = err_electron_volts,\n",
        "              fmt = '.', markersize = '10', ecolor = 'Black', color = 'Black',capsize=4, capthick=0.6)\n",
        "ax1.scatter(frecuencias, electron_volts, marker=\".\", s=50, c=\"black\", label='DATAPOINT')\n",
        "ax1.plot(frecuencias, modelo_fotoelectrico(frecuencias, popt[0], popt[1]),c='red',label=r'$h \\simeq$ {:.2e} ± {:.2e} J$\\cdot$s'.format(popt[0], perr[0]))\n",
        "\n",
        "# ax1.axhline(modelo_fotoelectrico(0,0,popt[1])) --> linea horizontal que muestra el intercepto con el eje y, es decir, el valor de la funcion trabajo\n",
        "\n",
        "ax1.axvline(1, c='red',label=r'$w_0 \\simeq$ {:.2e} ± {:.2e} J'.format(popt[1], perr[1]))\n",
        "ax1.set_title('Voltaje de frenado v/s frecuencia', fontsize=25)\n",
        "ax1.set_ylabel(r'eV (J)', fontsize=25)\n",
        "ax1.set_xlabel(r'Frecuencia, $\\nu = c/\\lambda (s^{-1})$', fontsize=25)\n",
        "ax1.yaxis.get_offset_text().set_fontsize(15)\n",
        "ax1.xaxis.get_offset_text().set_fontsize(15)\n",
        "ax1.set_xlim(500000000000000, 750000000000000)\n",
        "ax1.set_ylim(.000000000000000000075, .00000000000000000024)\n",
        "\n",
        "ax1.tick_params(axis='both', labelsize=15, direction='in', right=True, top=True,\n",
        "              length=6, width=1.5, grid_color='black', grid_alpha=1, grid_linestyle=\"-\",\n",
        "              grid_linewidth=0.5)\n",
        "\n",
        "extra_legend_1 = mpatches.Patch(label=r'Error porcentual de $h$ encontrado: {:.3f}%'.format(err_porcentual_h))\n",
        "extra_legend_2 = mpatches.Patch(label=r'Error porcentual de $w_0$ encontrado: {:.3f}%'.format(err_porcentual_w_0))\n",
        "extra_legend_3 = mpatches.Patch(label=r'Error de $h$ respecto al valor de tabla: {:.3f} ± {:.2f}%'.format(dif_porcentual_teo_exp_h, err_dif_porcentual_teo_exp_h))\n",
        "\n",
        "handles, labels = ax1.get_legend_handles_labels()\n",
        "handles.append(extra_legend_1)\n",
        "handles.append(extra_legend_2)\n",
        "handles.append(extra_legend_3)\n",
        "extra_legend = ax1.legend(handles=[extra_legend_1, extra_legend_2, extra_legend_3], loc='lower right', bbox_to_anchor=(1.0, 0.0), fontsize=15, markerscale=0, handlelength=0)\n",
        "extra_legend.legendHandles[0].set_visible(False)\n",
        "extra_legend.legendHandles[1].set_visible(False)\n",
        "extra_legend.legendHandles[2].set_visible(False)\n",
        "ax1.add_artist(extra_legend)\n",
        "\n",
        "ax1.xaxis.set_minor_locator(MultipleLocator(10000000000000))\n",
        "ax1.yaxis.set_minor_locator(MultipleLocator(0.000000000000000000005))\n",
        "ax1.tick_params(which='minor', length=4, color='black', direction='in', top=True, right=True,\n",
        "                grid_alpha=0.2, grid_linewidth=0.5, grid_linestyle=\"-\",grid_color='r')\n",
        "\n",
        "ax1.grid(True, which='both')\n",
        "ax1.legend(fontsize=15)"
      ]
    }
  ],
  "metadata": {
    "colab": {
      "provenance": []
    },
    "kernelspec": {
      "display_name": "Python 3",
      "name": "python3"
    },
    "language_info": {
      "codemirror_mode": {
        "name": "ipython",
        "version": 3
      },
      "file_extension": ".py",
      "mimetype": "text/x-python",
      "name": "python",
      "nbconvert_exporter": "python",
      "pygments_lexer": "ipython3",
      "version": "3.10.6"
    }
  },
  "nbformat": 4,
  "nbformat_minor": 0
}
